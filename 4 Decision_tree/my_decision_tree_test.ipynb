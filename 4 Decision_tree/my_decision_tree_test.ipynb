{
 "cells": [
  {
   "cell_type": "markdown",
   "id": "e38fc1d7",
   "metadata": {},
   "source": [
    "这是一个简单的决策树实现,简单在以下方面:\n",
    "* 训练数据分量的取值只能是1或0\n",
    "* 只能做二分类"
   ]
  },
  {
   "cell_type": "code",
   "execution_count": 9,
   "id": "4ac5a135",
   "metadata": {},
   "outputs": [
    {
     "name": "stdout",
     "output_type": "stream",
     "text": [
      "预测结果: [0 1 1 0 1 0 0 0 0 1 1 1 0 0 0 0 0 0 0 1]\n",
      "真实标签: [0 1 1 0 1 0 0 0 0 1 1 1 0 0 0 0 0 0 0 1]\n",
      "准确率: 1.0\n",
      "if feature 2 == 1?\n",
      "  yes, if feature 0 == 1?\n",
      "      yes, predict 1\n",
      "      no, predict 0\n",
      "  no, predict 0\n"
     ]
    }
   ],
   "source": [
    "import numpy as np\n",
    "from my_decision_tree import decision_tree_classifier\n",
    "\n",
    "# 随机生成训练数据\n",
    "np.random.seed(0)\n",
    "X_train = np.random.randint(0, 2, (100, 4))\n",
    "y_train = np.array([(1 if x[0] == 1 and x[2] == 1 else 0) for x in X_train])# 蕴含规律,检查算法是否能学习到\n",
    "# print('X train:',X_train)\n",
    "\n",
    "# 随机生成测试数据\n",
    "X_test = np.random.randint(0, 2, (20, 4))\n",
    "y_test = np.array([(1 if x[0] == 1 and x[2] == 1 else 0) for x in X_test])\n",
    "\n",
    "# 初始化模型\n",
    "clf = decision_tree_classifier()\n",
    "\n",
    "# 拟合模型\n",
    "clf.fit(X_train, y_train)\n",
    "\n",
    "# 预测\n",
    "y_pred = clf.predict(X_test)\n",
    "\n",
    "# 输出预测结果\n",
    "print(\"预测结果:\", y_pred)\n",
    "print(\"真实标签:\", y_test)\n",
    "print(\"准确率:\", np.mean(y_pred == y_test))\n",
    "clf.decision_tree.show()"
   ]
  }
 ],
 "metadata": {
  "kernelspec": {
   "display_name": "Python 3",
   "language": "python",
   "name": "python3"
  },
  "language_info": {
   "codemirror_mode": {
    "name": "ipython",
    "version": 3
   },
   "file_extension": ".py",
   "mimetype": "text/x-python",
   "name": "python",
   "nbconvert_exporter": "python",
   "pygments_lexer": "ipython3",
   "version": "3.12.6"
  }
 },
 "nbformat": 4,
 "nbformat_minor": 5
}
